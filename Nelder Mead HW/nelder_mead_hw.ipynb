{
 "cells": [
  {
   "cell_type": "markdown",
   "source": [
    "Импортируем numpy для векторных операций."
   ],
   "metadata": {}
  },
  {
   "cell_type": "code",
   "execution_count": 1,
   "source": [
    "import numpy as np"
   ],
   "outputs": [],
   "metadata": {}
  },
  {
   "cell_type": "markdown",
   "source": [
    "Напишем реализацию метода Недлера - Мида."
   ],
   "metadata": {}
  },
  {
   "cell_type": "code",
   "execution_count": 2,
   "source": [
    "def find_min_nelder_mead(func, p1, p2, p3, alpha=1, beta=0.5, gamma=2, tolerance=1e-10, tolerance_iterations=100):\r\n",
    "    prev_xl = None\r\n",
    "    tol_it = 0\r\n",
    "    while True:\r\n",
    "        # 1\r\n",
    "        psorted = [[p1, func(p1)], [p2, func(p2)], [p3, func(p3)]]\r\n",
    "        # 2\r\n",
    "        psorted.sort(key=lambda x: x[1])\r\n",
    "        xl = psorted[0][0]\r\n",
    "        xg = psorted[1][0]\r\n",
    "        xh = psorted[2][0]\r\n",
    "        # 3\r\n",
    "        xc = (xg + xl) / 2\r\n",
    "        # 4\r\n",
    "        xr = (1 + alpha) * xc - alpha * xh\r\n",
    "        # 5\r\n",
    "        if (func(xr) < func(xl)):\r\n",
    "            xe = (1 - gamma) * xc + gamma * xr\r\n",
    "            if (func(xe) < func(xr)):\r\n",
    "                xh = xe\r\n",
    "            else:\r\n",
    "                xh = xr\r\n",
    "        elif (func(xr) < func(xg)):\r\n",
    "            xh = xr\r\n",
    "        else:\r\n",
    "            if (func(xr) < func(xh)):\r\n",
    "                t = xr\r\n",
    "                xr = xh\r\n",
    "                xh = t\r\n",
    "\r\n",
    "            # 6\r\n",
    "            xs = beta * xh + (1 - beta) * xc\r\n",
    "            # 7\r\n",
    "            if (func(xs) < func(xh)):\r\n",
    "                xh = xs\r\n",
    "            # 8\r\n",
    "            else:\r\n",
    "                xh = xl + (xh - xl) / 2\r\n",
    "                xg = xl + (xg - xl) / 2\r\n",
    "\r\n",
    "        # 9\r\n",
    "        if ((not (prev_xl is None)) and np.sum(np.abs(prev_xl - xl)) < tolerance):\r\n",
    "            tol_it += 1\r\n",
    "            if (tol_it > tolerance_iterations):\r\n",
    "                return xl\r\n",
    "        else:\r\n",
    "            tol_it = 0\r\n",
    "\r\n",
    "        prev_xl = xl\r\n",
    "\r\n",
    "        p1 = xh\r\n",
    "        p2 = xg\r\n",
    "        p3 = xl"
   ],
   "outputs": [],
   "metadata": {}
  },
  {
   "cell_type": "markdown",
   "source": [
    "Определим функцию из условия."
   ],
   "metadata": {}
  },
  {
   "cell_type": "code",
   "execution_count": 3,
   "source": [
    "def f(point):\r\n",
    "    x, y = point\r\n",
    "    return np.sin(y) * np.exp((1 - np.cos(x)) ** 2) +\\\r\n",
    "        np.cos(x) * np.exp((1 - np.sin(y)) ** 2) + (x - y) ** 2"
   ],
   "outputs": [],
   "metadata": {}
  },
  {
   "cell_type": "markdown",
   "source": [
    "Покажем, что при разных значениях начальных треугольников (точки p1, p2, p3) метод находит разные минимумы."
   ],
   "metadata": {}
  },
  {
   "cell_type": "code",
   "execution_count": 4,
   "source": [
    "p1 = np.array([0, 0])\r\n",
    "p2 = np.array([0, 1])\r\n",
    "p3 = np.array([1, 0])\r\n",
    "print(find_min_nelder_mead(f, p1, p2, p3))\r\n",
    "\r\n",
    "p1 = np.array([-6, -6])\r\n",
    "p2 = np.array([-6, -8])\r\n",
    "p3 = np.array([-8, -6])\r\n",
    "print(find_min_nelder_mead(f, p1, p2, p3))\r\n",
    "\r\n",
    "p1 = np.array([6, 6])\r\n",
    "p2 = np.array([6, 8])\r\n",
    "p3 = np.array([8, 8])\r\n",
    "print(find_min_nelder_mead(f, p1, p2, p3))\r\n"
   ],
   "outputs": [
    {
     "output_type": "stream",
     "name": "stdout",
     "text": [
      "[0.9055187  0.66527763]\n",
      "[-5.37766661 -5.61790768]\n",
      "[9.3906441  4.74652283]\n"
     ]
    }
   ],
   "metadata": {}
  },
  {
   "cell_type": "markdown",
   "source": [
    "Покажем теперь, что параметры $\\alpha,$ $\\beta$ и $\\gamma$ также влияют на точку минимума, к которой сходится метод, причем при некоторых параметрах метод сходится к одним и тем же минимумам, но с разной точностью."
   ],
   "metadata": {}
  },
  {
   "cell_type": "code",
   "execution_count": 5,
   "source": [
    "p1 = np.array([10, 0])\r\n",
    "p2 = np.array([0, 10])\r\n",
    "p3 = np.array([10, 10])\r\n",
    "\r\n",
    "alpha = 1\r\n",
    "beta = 0.5\r\n",
    "gamma = 2\r\n",
    "print(find_min_nelder_mead(f, p1, p2, p3, alpha, beta, gamma))\r\n",
    "\r\n",
    "alpha = 0.1\r\n",
    "beta = 0.9\r\n",
    "gamma = 2\r\n",
    "print(find_min_nelder_mead(f, p1, p2, p3, alpha, beta, gamma))\r\n",
    "\r\n",
    "alpha = 3\r\n",
    "beta = 0.1\r\n",
    "gamma = 1.5\r\n",
    "print(find_min_nelder_mead(f, p1, p2, p3, alpha, beta, gamma))\r\n"
   ],
   "outputs": [
    {
     "output_type": "stream",
     "name": "stdout",
     "text": [
      "[9.39064411 4.74652284]\n",
      "[ 9.99516583 10.01992271]\n",
      "[ 9.41107789 10.96051299]\n"
     ]
    }
   ],
   "metadata": {}
  },
  {
   "cell_type": "markdown",
   "source": [
    "Мы видим, что при первом наборе параметров метод сходится к минимуму $(9.39064411, 4.74652284)$. Но при двух других наборах метод сходится к другим минимумам, но если анализировать функцию, то можно увидеть, что эти минимумы одни и те же, но найдены с разной точностью."
   ],
   "metadata": {}
  }
 ],
 "metadata": {
  "orig_nbformat": 4,
  "language_info": {
   "name": "python",
   "version": "3.7.7",
   "mimetype": "text/x-python",
   "codemirror_mode": {
    "name": "ipython",
    "version": 3
   },
   "pygments_lexer": "ipython3",
   "nbconvert_exporter": "python",
   "file_extension": ".py"
  },
  "kernelspec": {
   "name": "python3",
   "display_name": "Python 3.7.7 64-bit"
  },
  "interpreter": {
   "hash": "0600588c3b5f4418cbe7b5ebc6825b479f3bc010269d8b60d75058cdd010adfe"
  }
 },
 "nbformat": 4,
 "nbformat_minor": 2
}